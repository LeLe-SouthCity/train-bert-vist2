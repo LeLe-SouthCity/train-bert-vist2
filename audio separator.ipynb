{
 "cells": [
  {
   "cell_type": "markdown",
   "id": "7c02a4ef-34ee-40c9-b58e-a8ca59432472",
   "metadata": {},
   "source": [
    "### 背景音去除\n",
    "**目前提供一个单独的笔记本进行音频切割**\n",
    "**将你的带背景音的音频放入/root/autodl-tmp/workdir/MVSEP-MDX23-Colab_v2/input文件夹内**"
   ]
  },
  {
   "cell_type": "code",
   "execution_count": 3,
   "id": "6dd66c84-7c22-4827-9087-993e8e1f38e6",
   "metadata": {},
   "outputs": [
    {
     "name": "stdout",
     "output_type": "stream",
     "text": [
      "mv: cannot stat '/root/workdir/': No such file or directory\n"
     ]
    }
   ],
   "source": [
    "#将项目移动到数据盘节约空间\n",
    "%mv /root/workdir/ /root/autodl-tmp/"
   ]
  },
  {
   "cell_type": "code",
   "execution_count": 7,
   "id": "24b585cc-5a5f-4d72-850f-d4175497a2dc",
   "metadata": {},
   "outputs": [
    {
     "name": "stdout",
     "output_type": "stream",
     "text": [
      "/root/autodl-tmp/workdir/MVSEP-MDX23-Colab_v2\n"
     ]
    }
   ],
   "source": [
    "%cd /root/autodl-tmp/workdir/MVSEP-MDX23-Colab_v2/"
   ]
  },
  {
   "cell_type": "markdown",
   "id": "aa0c1bb8-a5a1-48b0-9042-02870d1a819d",
   "metadata": {},
   "source": [
    "#### 将下面的your_audio 改为你上传的文件\n",
    "比如你上传的音频是Taffy.mp3则代码应该为\n",
    "<br/>!python inference.py -r output --vocals_only true --large_gpu --input_audio input/Taffy.mp3"
   ]
  },
  {
   "cell_type": "code",
   "execution_count": 9,
   "id": "43e8c70d-50b5-48fc-a8c8-820d6aeb964f",
   "metadata": {},
   "outputs": [
    {
     "name": "stdout",
     "output_type": "stream",
     "text": [
      "GPU use: 0\n",
      "started!\n",
      "\n",
      "Options: \n",
      "BigShifts: 7\n",
      "\n",
      "weight_InstVoc: 8\n",
      "weight_VitLarge: 5\n",
      "\n",
      "overlap_InstVoc: 1\n",
      "overlap_VitLarge: 1\n",
      "\n",
      "use_VOCFT: False\n",
      "vocals_only: True\n",
      "output_format: FLOAT\n",
      "\n",
      "Loading InstVoc into memory\n",
      "Loading VitLarge into memory\n",
      "'(MaxRetryError(\"HTTPSConnectionPool(host='huggingface.co', port=443): Max retries exceeded with url: /timm/maxvit_large_tf_512.in1k/resolve/main/model.safetensors (Caused by ConnectTimeoutError(<urllib3.connection.HTTPSConnection object at 0x7fa218236680>, 'Connection to huggingface.co timed out. (connect timeout=10)'))\"), '(Request ID: d9f63683-e60f-4758-9de7-c54179e15617)')' thrown while requesting HEAD https://huggingface.co/timm/maxvit_large_tf_512.in1k/resolve/main/model.safetensors\n",
      "Go for: input/keith3.wav\n",
      "Input audio: (2, 16575542) Sample rate: 44100\n",
      "Processing vocals with VitLarge model...\n",
      "100%|█████████████████████████████████████████████| 7/7 [00:16<00:00,  2.37s/it]\n",
      "Processing vocals with MDXv3 InstVocHQ model...\n",
      "100%|█████████████████████████████████████████████| 7/7 [00:40<00:00,  5.72s/it]\n",
      "Processing vocals: DONE!\n",
      "File created: output/keith3_vocals.wav\n",
      "File created: output/keith3_instrum.wav\n",
      "Time: 92 sec\n",
      "\u001b[0m"
     ]
    }
   ],
   "source": [
    "!python inference.py -r output --vocals_only true --large_gpu --input_audio input/keith3.wav"
   ]
  },
  {
   "cell_type": "code",
   "execution_count": 10,
   "id": "96276635-89e3-4717-a815-ea12c46179d4",
   "metadata": {},
   "outputs": [],
   "source": [
    "#将数据集移动到切割文件夹\n",
    "%mv output/*_vocals.wav /root/autodl-tmp/workdir/audio-slicer/input/"
   ]
  },
  {
   "cell_type": "code",
   "execution_count": null,
   "id": "974ebf69-8cbe-484e-a3fe-7ee4f0b39ee6",
   "metadata": {},
   "outputs": [],
   "source": []
  }
 ],
 "metadata": {
  "kernelspec": {
   "display_name": "Python 3 (ipykernel)",
   "language": "python",
   "name": "python3"
  },
  "language_info": {
   "codemirror_mode": {
    "name": "ipython",
    "version": 3
   },
   "file_extension": ".py",
   "mimetype": "text/x-python",
   "name": "python",
   "nbconvert_exporter": "python",
   "pygments_lexer": "ipython3",
   "version": "3.10.8"
  }
 },
 "nbformat": 4,
 "nbformat_minor": 5
}
